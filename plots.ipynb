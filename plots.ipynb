{
 "cells": [
  {
   "cell_type": "code",
   "execution_count": null,
   "metadata": {
    "collapsed": true
   },
   "outputs": [],
   "source": [
    "\"\"\"\n",
    "Created on Fri Dec  1 22:47:41 2017\n",
    "\n",
    "@author: Pooja\n",
    "www.poojaangurala.com\n",
    "\"\"\"\n",
    "\"\"\"\n",
    "PLOTTING GRAPHS with MATPLOTLIB\n",
    "this script presents :-\n",
    "    Histogram\n",
    "    scatter\n",
    "    mtplotlib.gridspec\n",
    "    pie chart\n",
    "    bar chart\n",
    "    parallel coordinates\n",
    "    boxplots\n",
    "    area plots\n",
    "    \n",
    "Try to run code lines seperately for better understanding of code.\n",
    "use plt.clf() to clear the previous code.\n",
    "\"\"\""
   ]
  },
  {
   "cell_type": "code",
   "execution_count": null,
   "metadata": {
    "collapsed": true
   },
   "outputs": [],
   "source": [
    "import matplotlib.pyplot as plt\n",
    "import numpy as np\n",
    "from numpy import random"
   ]
  },
  {
   "cell_type": "code",
   "execution_count": null,
   "metadata": {
    "collapsed": true
   },
   "outputs": [],
   "source": [
    "x = np.linspace(0, 5, 10)\n",
    "y = x ** 2\n",
    "gdp_cap=[]\n",
    "for i in range(50):\n",
    "    n=np.random.randint(155, 389)\n",
    "    n=n/100\n",
    "    gdp_cap.append(n)\n",
    "life_exp = []\n",
    "for i in range(50):\n",
    "    n=np.random.randint(100, 150)\n",
    "    n=n/100\n",
    "    life_exp.append(n)\n",
    "pop = []\n",
    "for i in range(50):\n",
    "    n=np.random.randint(190, 230)\n",
    "    n=n/100\n",
    "    pop.append(n)"
   ]
  },
  {
   "cell_type": "code",
   "execution_count": null,
   "metadata": {
    "collapsed": true
   },
   "outputs": [],
   "source": [
    "\"\"\"\n",
    "histogram-----------------------------------\n",
    "\"\"\"\n",
    "plt.hist(pop, bins= 5)\n",
    "plt.hist(pop, color='red')\n",
    "plt.hist(pop, orientation='horizontal')# orientation changes the look of plot try it with 'vertical'\n",
    "plt.xscale('log')\n",
    "plt.yticks([0, 20000, 30000,50000])\n"
   ]
  },
  {
   "cell_type": "code",
   "execution_count": null,
   "metadata": {
    "collapsed": true
   },
   "outputs": [],
   "source": [
    "fig, axes = plt.subplots(figsize=(12,3))\n",
    "axes.xticks(0,2,4,6,8,10)\n",
    "axes.yticks(0,2,4,6,8,10)\n",
    "axes.plot(x, x**2, label=\"curve1\")\n",
    "axes.plot(x, x**3, label=\"curve2\")\n",
    "axes.legend()\n",
    "#plt.clf()# clears the previous plt\n",
    "fig, ax = plt.subplots()\n",
    "ax.plot(x, x+1, color=\"red\", alpha=0.5) # half-transparant red\n",
    "ax.plot(x, x+2, color=\"#1155dd\")        # RGB hex code for a bluish color\n",
    "ax.plot(x, x+3, color=\"#15cc55\")  \n",
    "fig, axes = plt.subplots(1, 2, figsize=(10,3))\n",
    "\n",
    "# default grid appearance\n",
    "axes[0].plot(x, x**2, x, x**3, lw=2)\n",
    "axes[0].grid(True)\n",
    "\n",
    "# customize grid appearance\n",
    "axes[1].plot(x, x**2, x, x**3, lw=2)\n",
    "axes[1].grid(color='b', alpha=0.5, linestyle='dashed', linewidth=0.5)\n",
    "\n",
    "fig = plt.figure()\n",
    "ax = fig.add_axes([0.0, 0.0, .6, .6], polar=True)\n",
    "t = np.linspace(0, 2 * np.pi, 100)\n",
    "ax.plot(t, t, color='blue', lw=3);\n",
    "\"\"\"\n",
    "gridspec---------------------------------------------------------\n",
    "\"\"\"\n",
    "import matplotlib.gridspec as gridspec\n",
    "fig = plt.figure()\n",
    "\n",
    "gs = gridspec.GridSpec(2, 3, height_ratios=[2,1], width_ratios=[1,2,1])\n",
    "for g in gs:\n",
    "    ax = fig.add_subplot(g)\n",
    "    \n",
    "fig.tight_layout()\n"
   ]
  },
  {
   "cell_type": "code",
   "execution_count": null,
   "metadata": {
    "collapsed": true
   },
   "outputs": [],
   "source": [
    "\"\"\"\n",
    "Scatter ------------------------------------------------------\n",
    "\"\"\"\n",
    "import numpy as np\n",
    "x= np.random.rand(5)\n",
    "y=np.random.rand(5)\n",
    "s1= [10,20,30,40,50]\n",
    "c1=np.random.rand(5)\n",
    "plt.scatter(x,y, s =s1, c=c1)\n",
    "\n",
    "plt.scatter(gdp_cap, life_exp, s =pop)\n",
    "plt.xscale('log') \n",
    "plt.xlabel('GDP per Capita [in USD]')\n",
    "plt.ylabel('Life Expectancy [in years]')\n",
    "plt.title('World Development in 2007')\n",
    "plt.xticks([1000, 10000, 100000],['1k', '10k', '100k'])\n",
    "plt.legend([\"curve1\"])\n"
   ]
  },
  {
   "cell_type": "code",
   "execution_count": null,
   "metadata": {
    "collapsed": true
   },
   "outputs": [],
   "source": [
    "\"\"\"\n",
    "pie chart-----------------------------------------------------\n",
    "\"\"\"\n",
    "\n",
    "labels = 'Python', 'C++', 'Ruby', 'Java'\n",
    "sizes = [310, 30, 145, 110]\n",
    "colors = ['gold', 'yellowgreen', 'lightcoral', 'lightskyblue']\n",
    "explode = (0, 0.1, 0, 0)  # explode 1st slice\n",
    " \n",
    "plt.pie(sizes, explode=explode, labels=labels, colors=colors,\n",
    "        autopct='%1.1f%%', shadow=True, startangle=140)\n",
    "plt.axis('equal')\n",
    "plt.tight_layout()\n",
    "plt.axis('equal')\n",
    "plt.show()"
   ]
  },
  {
   "cell_type": "code",
   "execution_count": null,
   "metadata": {
    "collapsed": true
   },
   "outputs": [],
   "source": [
    "\n",
    "\"\"\"\n",
    "bar--------------------------------------------------------------\n",
    "\"\"\"\n",
    "\n",
    "x = np.arange(4)\n",
    "money = [1.5e5, 2.5e6, 5.5e6, 2.0e7]\n",
    "a, b, c, d = plt.bar(x, money).scatter(True)\n",
    "a.set_facecolor('r')\n",
    "b.set_facecolor('g')\n",
    "c.set_facecolor('b')\n",
    "d.set_facecolor('black')\n",
    "plt.xticks(x, ('Bill', 'Fred', 'Mary', 'Sue'))\n",
    "plt.show()\n",
    "\n",
    "import pandas as pd\n",
    "\n",
    "df2 = pd.DataFrame(np.random.rand(10, 4), columns=['a', 'b', 'c', 'd'])\n",
    "\n",
    "df2.plot.bar();\n",
    "df2.plot.bar(stacked=True);"
   ]
  },
  {
   "cell_type": "code",
   "execution_count": null,
   "metadata": {
    "collapsed": true
   },
   "outputs": [],
   "source": [
    "\n",
    "\"\"\"\n",
    "Parellel coordinates is a method for exploring the spread of multidimensional data \n",
    "on a categorical response, \n",
    "and taking a glance at whether there is any trends to the features.\n",
    "\n",
    "Parallel coordinates is a plotting technique for plotting multivariate data. \n",
    "It allows one to see clusters in data and to estimate other statistics visually. \n",
    "Using parallel coordinates points are represented as connected line segments. \n",
    "Each vertical line represents one attribute. \n",
    "One set of connected line segments represents one data point. \n",
    "Points that tend to cluster will appear closer together.\n",
    "\"\"\"\n"
   ]
  },
  {
   "cell_type": "code",
   "execution_count": null,
   "metadata": {
    "collapsed": true
   },
   "outputs": [],
   "source": [
    "from pandas.tools.plotting import parallel_coordinates\n",
    "url = \"https://archive.ics.uci.edu/ml/machine-learning-databases/iris/iris.data\"\n",
    "names = ['sepal_length', 'sepal-width', 'petal-length', 'petal-width', 'class']\n",
    "dataset = pd.read_csv(url, names=names) \n",
    "#print(dataset)\n",
    "plt.figure()\n",
    "parallel_coordinates(dataset , 'class')\n",
    "print(dataset.groupby('class').size())"
   ]
  },
  {
   "cell_type": "code",
   "execution_count": null,
   "metadata": {
    "collapsed": true
   },
   "outputs": [],
   "source": [
    "\n",
    "\"\"\"\n",
    "box plot:\n",
    "    The box plot (a.k.a. box and whisker diagram) is a standardized way of displaying the distribution of data based on the five number summary: minimum, \n",
    "    first quartile, median, third quartile, and maximum.\n",
    "    In the simplest box plot the central rectangle spans the first quartile to the third quartile \n",
    "    (the interquartile range or IQR). A segment inside the rectangle shows the median and \"whiskers\" \n",
    "    above and below the box show the locations of the minimum and maximum.\n",
    "If the data happens to be normally distributed,\n",
    "\n",
    "IQR = 1.35 σ\n",
    "\n",
    "where σ is the population standard deviation.\n",
    "\"\"\"\n",
    "\n",
    "df = pd.DataFrame(np.random.rand(10, 5), columns=['A', 'B', 'C', 'D', 'E'])\n",
    "color = dict(boxes='DarkGreen', whiskers='DarkOrange', medians='DarkBlue', caps='Gray')\n",
    "df.plot.box(color=color, sym='r+')\n"
   ]
  },
  {
   "cell_type": "code",
   "execution_count": null,
   "metadata": {
    "collapsed": true
   },
   "outputs": [],
   "source": [
    "\"\"\"\n",
    "area plot:Area plots are stacked by default\n",
    "    When input data contains NaN, it will be automatically filled by 0. If you want to drop or fill by different values, \n",
    "    use dataframe.dropna() or dataframe.fillna() before calling plot.\n",
    "\"\"\"\n",
    "df = pd.DataFrame(np.random.rand(10, 4), columns=['a', 'b', 'c', 'd'])\n",
    "\n",
    "df.plot.area();"
   ]
  },
  {
   "cell_type": "code",
   "execution_count": null,
   "metadata": {
    "collapsed": true
   },
   "outputs": [],
   "source": [
    "\n",
    "\"\"\"\n",
    "to be noted-------------------------\n",
    "\n",
    "Pandas tries to be pragmatic about plotting DataFrames or Series that contain missing data. Missing values are dropped, left out, or filled depending on the plot type.\n",
    "\n",
    "Plot Type\tNaN Handling\n",
    "Line\tLeave gaps at NaNs\n",
    "Line (stacked)\tFill 0’s\n",
    "Bar\tFill 0’s\n",
    "Scatter\tDrop NaNs\n",
    "Histogram\tDrop NaNs (column-wise)\n",
    "Box\tDrop NaNs (column-wise)\n",
    "Area\tFill 0’s\n",
    "Pie\tFill 0’s\n",
    "\"\"\""
   ]
  }
 ],
 "metadata": {
  "kernelspec": {
   "display_name": "Python 3",
   "language": "python",
   "name": "python3"
  },
  "language_info": {
   "codemirror_mode": {
    "name": "ipython",
    "version": 3
   },
   "file_extension": ".py",
   "mimetype": "text/x-python",
   "name": "python",
   "nbconvert_exporter": "python",
   "pygments_lexer": "ipython3",
   "version": "3.6.3"
  }
 },
 "nbformat": 4,
 "nbformat_minor": 2
}

